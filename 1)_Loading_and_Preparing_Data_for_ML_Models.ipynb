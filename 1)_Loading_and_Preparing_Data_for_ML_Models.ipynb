{
  "nbformat": 4,
  "nbformat_minor": 0,
  "metadata": {
    "colab": {
      "provenance": [],
      "include_colab_link": true
    },
    "kernelspec": {
      "name": "python3",
      "display_name": "Python 3"
    },
    "language_info": {
      "name": "python"
    }
  },
  "cells": [
    {
      "cell_type": "markdown",
      "metadata": {
        "id": "view-in-github",
        "colab_type": "text"
      },
      "source": [
        "<a href=\"https://colab.research.google.com/github/Lucy-Moctezuma/ML-Tutorial-for-Antibiotic-Resistance-Predictions-for-E.-Coli/blob/main/1)_Loading_and_Preparing_Data_for_ML_Models.ipynb\" target=\"_parent\"><img src=\"https://colab.research.google.com/assets/colab-badge.svg\" alt=\"Open In Colab\"/></a>"
      ]
    },
    {
      "cell_type": "markdown",
      "metadata": {
        "id": "0jr_YDcEQgNX"
      },
      "source": [
        "(**Note:**\n",
        "Click on the button that reads *“Open in Colab”* to open this code in Google Colab. Once open in Google Colab, you can make a copy of the notebook in your personal drive and run the code by clicking a little triangle/arrow to the left of each code block.)\n",
        "\n",
        "# **Welcome to Antibiotic Resistance Prediction for E.Coli using Machine Learning**\n",
        "\n",
        "## ***Summary***:\n",
        "\n",
        "Antibiotic resistance is a global public health concern. Bacteria are evolving resistance to the current prescribed antibiotics resulting in strains developing multi-drug resistance. Currently, clinics often perform traditional culture-based assays (i.e., testing whether a drug would kill the bacteria in a petri dish) to determine antibiotic resistance in bacterial strains. Alternatively, clinics can also sequence these strains. These sequences can be analyzed to predict resistance to a prescribed antibiotic. There are different ways to perform the analysis and Machine Learning is one of them. This series of tutorials intends to help you understand how to do such an analysis.\n",
        "\n",
        "We will process publically available whole genome sequences of *E. coli* strains to create Logistic Regression, Random Forest, Gradient Boosted Trees, and Neural Network models to predict **Resistance (R)** and **Susceptibility (S)** for each strain. The strains have already been tested in the lab, so we will\n",
        "later be able to compare the predictions made by our Machine Learning models with the traditional culture-based assays results in order to determine the performance for each of these models.\n",
        "\n",
        "The data and the approach we take are similar to a previously published paper (Moradigaravand 2018), with the exception that we will be using using Multi Locus Sequence Typing (MLST) to perform a block cross validation. We will then use only 2 features: Year of isolation and Gene Presence / Absence data.\n",
        "\n",
        "<a name=\"cell-id\"></a>\n",
        "### ***Data origins***:\n",
        "**Publication**:\n",
        "Moradigaravand D, Palm M, Farewell A, Mustonen V, Warringer J, Parts L (2018) Prediction of antibiotic resistance in *Escherichia coli* from large-scale pan-genome data. PLoS Comput Biol 14(12): e1006258. https://doi.org/10.1371/journal.pcbi.1006258\n",
        "\n",
        "Github link: https://github.com/DaneshMoradigaravand/PanPred\n",
        "\n",
        "**Online Database**:\n",
        "To consider population structure we used Sequence Type (ST) that were extracted from the online database EnteroBase, which is a user friendly online resource to seach or upload genetic data samples of E.Coli for analysis. This tutorial uses the Achtman 7 Gene MLST scheme.\n",
        "Website: https://enterobase.warwick.ac.uk/species/index/ecoli\n",
        "\n",
        "### ***Objectives of this Notebook***:\n",
        "\n",
        "- The Objective of this first notebook is to explore and undertand the data we will be using as features to predict susceptibility (S) or resistance (R) in *E.coli* Bacteria for several drugs.\n",
        "\n",
        "- In addition we will see in this notebook how to explore, clean up and pre-process our data before feeding it into different machine learning algorithms."
      ]
    },
    {
      "cell_type": "markdown",
      "metadata": {
        "id": "ngBJdN83RUQd"
      },
      "source": [
        "## **1) Importing all necessary packages for Dataframe Manipulation**\n",
        "\n",
        "The code below will allow you to import the packages needed to load and pre-process the data used for our models.\n",
        "\n",
        "**NOTE:** Please allow access to your google drive when prompted, this will let you create and store the files in your drive to be accessed later by subsequent notebooks as we make progress towards getting our final results."
      ]
    },
    {
      "cell_type": "code",
      "execution_count": 1,
      "metadata": {
        "id": "1t5OCYkUQUXl",
        "colab": {
          "base_uri": "https://localhost:8080/"
        },
        "outputId": "b765ebbc-da16-477e-c992-0a5e8d579bd6"
      },
      "outputs": [
        {
          "output_type": "stream",
          "name": "stdout",
          "text": [
            "Mounted at /content/drive\n"
          ]
        }
      ],
      "source": [
        "# Data Wrangling Imports\n",
        "import pandas as pd\n",
        "import numpy as np\n",
        "from pandas.api.types import is_numeric_dtype\n",
        "from functools import reduce\n",
        "\n",
        "# Data visualization\n",
        "import matplotlib.pyplot as plt\n",
        "\n",
        "# File Manipulation Imports\n",
        "import os\n",
        "from google.colab import drive\n",
        "drive.mount('/content/drive')\n"
      ]
    },
    {
      "cell_type": "markdown",
      "metadata": {
        "id": "JxYf9QKSTHIA"
      },
      "source": [
        "## **2) Loading all Datasets used for Predictions**\n",
        "\n",
        "The code below will load the datasets we use from Moragadivand's github page (link located in the [Data origin](#cell-id) section). There are three datasets used:\n",
        "\n",
        "**a) Metadata**: Year of isolation, Sequence Type based on MLST and results from Antimicrobial Susceptibility Testing.\n",
        "\n",
        "**b) Gene Presence and Absence**: Not all *E. coli* strains carry the same accesory genes. We have a list of genes and information for each strain on whether it carries that gene.\n"
      ]
    },
    {
      "cell_type": "code",
      "execution_count": 2,
      "metadata": {
        "id": "BBnyyyEUTSqx"
      },
      "outputs": [],
      "source": [
        "# assign to url variable for each csv file\n",
        "metadata_url = 'https://raw.githubusercontent.com/Lucy-Moctezuma/ML-Tutorial-for-Antibiotic-Resistance-Predictions-for-E.-Coli/main/Datasets/Metadata.csv'\n",
        "gene_presence_url = 'https://raw.githubusercontent.com/Lucy-Moctezuma/ML-Tutorial-for-Antibiotic-Resistance-Predictions-for-E.-Coli/main/Datasets/AccessoryGene.csv'\n",
        "\n",
        "# load the three csv files into the notebook\n",
        "metadata = pd.read_csv(metadata_url)\n",
        "gene_presence_data = pd.read_csv(gene_presence_url)"
      ]
    },
    {
      "cell_type": "markdown",
      "source": [
        "### **a) Metadata:**"
      ],
      "metadata": {
        "id": "KmeqEVTZ9cAl"
      }
    },
    {
      "cell_type": "markdown",
      "source": [
        "#### **a.1) Columns Summary:**"
      ],
      "metadata": {
        "id": "waFVi52a95Vp"
      }
    },
    {
      "cell_type": "markdown",
      "metadata": {
        "id": "4WvL6LNaUy1f"
      },
      "source": [
        "\n",
        "\n",
        "- **Lane.Ascession**: Unique identifier given to a DNA sequence record to allow their tracking in sequence databases. We used this number to extract the MLST information in [EnteroBase](https://enterobase.warwick.ac.uk/species/index/ecoli).\n",
        "- **MLST**: Short for Multi Locus Sequence Typing. This is an unambiguous procedure that characterizes bacterial species using the sequences of internal fragments of seven house-keeping genes.\n",
        "- **Isolate number**: Unique number assigned to identify a particular strain of *E. coli* Bacteria. Thus we will refer to each row of our dataset as an \"Isolate\" from now on.\n",
        "- **Year of Isolation**: The year in which a particular bacterial isolate was collected from a patient.\n",
        "- **Antibiotic drug**: There are 12 antibiotic drug columns named after their 3 letter abbreviation adopted from the \"British Society of Antimicrobial Chemotherapy\".\n",
        "\n",
        "|Abreviation|Class: Subclass|Full name|\n",
        "|:----------|:--------------|:--------|\n",
        "|**CTZ**|Beta-lactams: Cephalosporins|Ceftazidime|\n",
        "|**CTX**|Beta-lactams: Cephalosporins|Cefotaxime |\n",
        "|**CXM**|Beta-lactams: Cephalosporins|Cefuroxime|\n",
        "|**CET**|Beta-lactams: Cephalosporins|Cephalothin|\n",
        "|**AMP**|Beta-lactams: Penicillin|Ampicillin|\n",
        "|**AMX**|Beta-lactams: Penicillin|Amoxicillin|\n",
        "|**AMC**|Beta-lactams: Penicillin|Amoxicillin + Clavulanate potassium|\n",
        "|**TZP**|Beta-lactams: Piperacillin|Tazobactam|\n",
        "|**GEN**|Aminoglycosides|Gentamicin|\n",
        "|**TBM**|Aminoglycosides|Tobramycin|\n",
        "|**TMP**|Antifolate|Trimethoprim|\n",
        "|**CIP**|Fluoroquinolones|Ciprofloxacin|\n"
      ]
    },
    {
      "cell_type": "code",
      "execution_count": null,
      "metadata": {
        "id": "5YUUNiBET1Ra"
      },
      "outputs": [],
      "source": [
        "# Visualize the first 5 rows of our dataframe\n",
        "metadata.head()"
      ]
    },
    {
      "cell_type": "markdown",
      "source": [
        "**Note**: NaN was used to mark when there is no data for that isolate and drug."
      ],
      "metadata": {
        "id": "VzhSXRVGUP75"
      }
    },
    {
      "cell_type": "code",
      "execution_count": 4,
      "metadata": {
        "id": "NVwnOJwTW3mI",
        "colab": {
          "base_uri": "https://localhost:8080/"
        },
        "outputId": "fb840045-e668-4e0a-b735-ccd7e22e7c81"
      },
      "outputs": [
        {
          "output_type": "execute_result",
          "data": {
            "text/plain": [
              "(1936, 16)"
            ]
          },
          "metadata": {},
          "execution_count": 4
        }
      ],
      "source": [
        "# Observe the shape and size of the dataframe\n",
        "metadata.shape"
      ]
    },
    {
      "cell_type": "markdown",
      "source": [
        "The code above can show us the shape of our entire dataframe in the following format: **(Row count, Column count)**\n",
        "\n",
        "**a) Row count**: There is a total of 1936 Isolates of *E. coli* Bacteria.\n",
        "\n",
        "**b) Column count**: is 16 = Lane Ascesion (1) + MLST(1) + Isolate number (1) + year (1)+ antibiotic laboratory test results (12)\n"
      ],
      "metadata": {
        "id": "mTND4xYDC36D"
      }
    },
    {
      "cell_type": "markdown",
      "source": [
        "#### **a.2) Multi Locus Sequence Typing (MLST):**"
      ],
      "metadata": {
        "id": "vXMJR9Q6-CH7"
      }
    },
    {
      "cell_type": "markdown",
      "source": [
        "The E. coli genome is composed of one circular chromosome with many genes. This tutorial uses the Achtman 7 Gene MLST scheme. Using this classification rule E. coli bacterial isolates are classified based their sequences at 7 house-keeping genes: **adk, fumC, gyrB, icd, mdh, purA, recA**\n",
        "\n",
        "**3 Examples of MLST Classification**\n",
        "\n",
        "Each of these genes have a database of alleles. **Alleles** are alternative forms of a gene that arise by mutation and are found at the same place on a chromosome.\n",
        "\n",
        "Different combinations of alleles for each of the 7 house-keeping genes  determine what ST group a particular isolate belongs to. In the example below the isolates with accension number ERR434280 and ERR434922 belong to the same Sequence Type (131), because the combination of alleles for each of these 7 genes are the same.\n",
        "\n",
        "![MLST graph](https://drive.google.com/uc?export=view&id=1SFBXOIsRoSSHQgEFMtkPlvPflu8PFAXN)\n",
        "\n",
        "Below we can see that we have a total of **337** different Sequence Types (ST) in our dataset."
      ],
      "metadata": {
        "id": "EAC_rwqPFW7Q"
      }
    },
    {
      "cell_type": "code",
      "execution_count": null,
      "metadata": {
        "id": "XnyaQXzgdXBw"
      },
      "outputs": [],
      "source": [
        "# This prints the mlst sequence types the strains belong to\n",
        "mlst_list = metadata[\"MLST\"].unique()\n",
        "mlst_list = mlst_list[np.logical_not(np.isnan(mlst_list))]\n",
        "print(sorted(mlst_list))\n",
        "print(len(mlst_list))"
      ]
    },
    {
      "cell_type": "markdown",
      "source": [
        "To not confuse these groups as numerical data, we will add the letters \"ST\" in front of the numbers, so that python reads them as categorical data.\n",
        "\n",
        "We can also break the composition of these ST groups in our data in a barchart, showing the 15 most abundant ST groups:"
      ],
      "metadata": {
        "id": "awLgHrZxzdDh"
      }
    },
    {
      "cell_type": "code",
      "source": [
        "# Check that MLST column is numeric\n",
        "if is_numeric_dtype(metadata['MLST']):\n",
        "  # If it is, Add ST infront of numbers to make them into categorical data and strip .0\n",
        "  metadata['MLST'] = 'ST' + metadata['MLST'].astype(str)\n",
        "  metadata['MLST'] = metadata['MLST'].map(lambda x: x.rstrip('.0'))\n",
        "else:\n",
        "  # If not then make no changes\n",
        "  metadata['MLST']\n",
        "\n",
        "# making bar graph to show how many strains we have for each ST group\n",
        "bplotdata = metadata['MLST'].value_counts().sort_values(ascending = False).head(15)\n",
        "bplotdata.plot(kind='barh',figsize=(14,8),title=\"15 most common Sequence Types in Data\")"
      ],
      "metadata": {
        "id": "xESjpe2tzyYA"
      },
      "execution_count": null,
      "outputs": []
    },
    {
      "cell_type": "markdown",
      "source": [
        "When we use ML methods and DNA sequences, there is a concern that the method may learn to recognize related isolates. The ML predictions may then be right but simply because highly related  isolates were present in the training and the test dataset.\n",
        "To make sure this doesn’t happen, we can make sure that all samples of one ST are put in either training or in validation data, but not both.\n",
        "Different researchers take different approaches to do this and we expect that in the future a standard will emerge. For now, this tutorial provides code to perform block design based on Sequence Types.  "
      ],
      "metadata": {
        "id": "tnpVWuU30InG"
      }
    },
    {
      "cell_type": "markdown",
      "source": [
        "#### **a.3) Determination of Resistant(R) and Susceptible(S) labels:**"
      ],
      "metadata": {
        "id": "QIHQsDQd-Iqo"
      }
    },
    {
      "cell_type": "markdown",
      "source": [
        "- **Antimicrobial Susceptibility Testing**:\n",
        "Laboratory test where a bacterial isolate is grown in the presence of different concentrations of a drug to determine whether it is Susceptible(S), Intermediate (I) or Resistance(R).\n",
        "\n",
        "- **Clinical Breakpoints**: Each of the drugs listed in the chart have a different concentration (clinical breakpoint) used to determine the Susceptibility or Resistance of *E. coli* to that drug. If the bacterium can grow at a drug concentration higher than the breakpoint, it is considered resistant.\n",
        "\n",
        "- Results from the laboratory tests were determined based on the guidelines from the [European Committee on Antimicrobial Susceptibility Testing (EUCAST)](https://www.eucast.org/videos_and_online_seminars/english) on 25/01/2017. Click on the link to see a series of videos on how the laboratory tests are done.\n",
        "\n",
        "- In Moragadivand's paper, isolates that were classified as Intermediate(I) were lumped together with the Resistant ones, therefore we are going to do the same in this tutorial."
      ],
      "metadata": {
        "id": "MVeADhKUypGs"
      }
    },
    {
      "cell_type": "code",
      "source": [
        "# Checking how many isolates are Resistant vs Susceptible to AMX antibiotic drugs\n",
        "metadata['AMX'].value_counts()"
      ],
      "metadata": {
        "id": "iKTyB-Rf-01h"
      },
      "execution_count": null,
      "outputs": []
    },
    {
      "cell_type": "markdown",
      "source": [
        "### **b) Gene presence and absence:**"
      ],
      "metadata": {
        "id": "JDys6a2YCSTy"
      }
    },
    {
      "cell_type": "markdown",
      "metadata": {
        "id": "w-BsU58aWtrT"
      },
      "source": [
        "**Genes:** Sequences of DNA that (usually) code for proteins. These sequences can vary in length and the resulting proteins have a variety of functions. Some genes and their resulting proteins are well characterized and have names, whereas others are not well characterized. For our analysis, the genes from our data set will be generally classified into:\n",
        "\n",
        "- **Core Genome:** These are the genes that are present in almost all individuals for a particular species. In our case, they are the genes that all our *E.coli* isolates have in common. These genes are not present in our dataset because they would be the same for all *E.Coli* samples\n",
        "\n",
        "- **Accessory Genes:** These are the genes that might be found in one individual but may not be found in another, within the same species. A gene presence / absence table lists which isolates have which genes.\n",
        "\n",
        "- **Pan-genome:** These are all the possible genes that can be found in a particular species. That is they are all the gene presents present in our *E. coli* isolates (Pan-genome = Core Genome + Accesory Genes).\n",
        "\n",
        "The code below will show us the dataframe containing the presence and absence of all the genes detected in for each isolate.\n",
        "- **0** = Absence of the gene\n",
        "- **1** = Presence of the gene.\n",
        "\n"
      ]
    },
    {
      "cell_type": "code",
      "execution_count": null,
      "metadata": {
        "id": "Bxqk3-mdT_an"
      },
      "outputs": [],
      "source": [
        "# Visualize the first 5 rows of accessory genes\n",
        "gene_presence_data.head()"
      ]
    },
    {
      "cell_type": "markdown",
      "source": [
        "Not all genes are well known and have names, therefore the software that creates a gene presence / absence table has separated them in 2 sets of genes that were named differently:\n",
        "\n",
        "**1) Named genes**: which were extracted from the annotated DNA sequences.\n",
        "\n",
        "In the code below we can take a look at all the names of the named genes because **they do not have the word \"group\"** in them."
      ],
      "metadata": {
        "id": "dty0oXYeVOLc"
      }
    },
    {
      "cell_type": "code",
      "execution_count": null,
      "metadata": {
        "id": "pWm2B9qc-iXT"
      },
      "outputs": [],
      "source": [
        "# this code will output the list of named genes and the length of it\n",
        "named_genes = [col for col in gene_presence_data.drop(columns=[\"Unnamed: 0\"]).columns if 'group' not in col]\n",
        "print(\"List of named_genes:\")\n",
        "print(named_genes)\n",
        "print(\"Total number of named genes included: \", len(named_genes))"
      ]
    },
    {
      "cell_type": "markdown",
      "source": [
        "**2) Unnamed genes**: these are the DNA sequences that look like a gene (e.g., they have a start and a stop codon) and are grouped based on **orthologous gene groups**. This means that these are sequences where we don't necessarily know their function, but we know that they exist in many of the *E. coli* isolates, **they get a name that starts with \"group\"**.\n",
        "\n",
        "**NOTE: Orthologous genes**: are genes that derive from the same ancestral gene.\n",
        "\n",
        "\n",
        "\n"
      ],
      "metadata": {
        "id": "yWTFP7K3VRlK"
      }
    },
    {
      "cell_type": "code",
      "source": [
        "# this code will output all the genes without an assigned gene name.\n",
        "other_genes = [col for col in gene_presence_data.drop(columns=[\"Unnamed: 0\"]).columns if 'group' in col]\n",
        "print(\"List of unnamed genes:\")\n",
        "print(other_genes)\n",
        "print(\"Total number of unnamed genes included: \", len(other_genes))"
      ],
      "metadata": {
        "id": "g5Upy8PVeK0h"
      },
      "execution_count": null,
      "outputs": []
    },
    {
      "cell_type": "markdown",
      "source": [
        "**NOTE:** The code below is showing us which Isolates have the ortholog gene group called **\"group_13605\"** In this case we have 8 isolates that have this gene."
      ],
      "metadata": {
        "id": "ei8QZAHblFSu"
      }
    },
    {
      "cell_type": "code",
      "source": [
        "# the code below prints all the isolate numbers that have a 1 (presence) for a particular group\n",
        "print(gene_presence_data[gene_presence_data[\"group_13605\" ]== 1][\"Unnamed: 0\"])"
      ],
      "metadata": {
        "id": "o6HupqNmDblj"
      },
      "execution_count": null,
      "outputs": []
    },
    {
      "cell_type": "markdown",
      "source": [
        "The code below can show us the shape of our entire dataframe in the following format: **(Row count, Column count)**\n",
        "\n",
        "**a) Row count**: Notice that the number of isolates is 2033, whereas in the Metadata file there were only 1936. We can only work with isolates for which we have metadata, so later on we will filter out the ones that do not have a corresponding metadata.\n",
        "\n",
        "**b) Column count**: The number of columns is 17199 = Isolate number(1) + named_genes(3815) + unnamed_genes(13383)"
      ],
      "metadata": {
        "id": "7_W2zD80nFX7"
      }
    },
    {
      "cell_type": "code",
      "execution_count": 12,
      "metadata": {
        "id": "0tqRCFBNYQ4M",
        "colab": {
          "base_uri": "https://localhost:8080/"
        },
        "outputId": "43a94a56-8727-4754-90d5-1979d4c20090"
      },
      "outputs": [
        {
          "output_type": "execute_result",
          "data": {
            "text/plain": [
              "(2033, 17199)"
            ]
          },
          "metadata": {},
          "execution_count": 12
        }
      ],
      "source": [
        "# Observe the shape and size of the dataframe\n",
        "gene_presence_data.shape"
      ]
    },
    {
      "cell_type": "markdown",
      "source": [
        "## **3) Final dataset used in subsequent notebooks**"
      ],
      "metadata": {
        "id": "zfTUJ8V7IJ0E"
      }
    },
    {
      "cell_type": "markdown",
      "metadata": {
        "id": "RSqc9UEt6LfI"
      },
      "source": [
        "#### **a)** Making a single dataframe using both data sources\n",
        "\n",
        "**Notes:**\n",
        "- **lambda** is an expression used to create python functions without needing to name them specifically, in this case we are asking to merge our dataframes from left to right, so metadata_d first and then gene_presence_data.\n",
        "- **reduce** is a function that allow us to repeat a particular function on a list of objects. This was done because the merge function only takes 2 dataframes at the time. This way you can include as many dataframes you want to merge in our **df_list** in case you want to work with more features.\n",
        "- The function **merge()**, allows to pass the parameter **(on =\"Isolate\")**, which will ensure that each isolate number is correctly matched for both data sources, the parameter **(how=\"inner\")** will make sure that isolates without a match are not included in the final dataframe."
      ]
    },
    {
      "cell_type": "code",
      "source": [
        "# matching the Isolate column name for both datasets\n",
        "gene_presence_data.rename(columns={'Unnamed: 0': 'Isolate'}, inplace=True)\n",
        "\n",
        "# List of data sources\n",
        "df_list = [metadata,gene_presence_data]\n",
        "\n",
        "# creating a single dataframe with all drugs and features available\n",
        "Drug_df = reduce(lambda  left,right: pd.merge(left,right,on=['Isolate'], how='inner'), df_list)\n",
        "Drug_df.head()\n"
      ],
      "metadata": {
        "id": "ZJ-djVsI-KZN"
      },
      "execution_count": null,
      "outputs": []
    },
    {
      "cell_type": "markdown",
      "source": [
        "#### **b)** Deleting Lane.accession number\n",
        "\n",
        "Because Lane.Ascession and Isolate number are both forms of to identify the same observation we can eliminate Lane.Ascession as it will not be useful to our models."
      ],
      "metadata": {
        "id": "XnpaiSDwjv_k"
      }
    },
    {
      "cell_type": "code",
      "source": [
        "# Deleting Ascension number\n",
        "Drug_df.drop(columns=[\"Lane.accession\"], axis=1, inplace=True)\n",
        "Drug_df.head()"
      ],
      "metadata": {
        "id": "MPcV9p4KkUmq"
      },
      "execution_count": null,
      "outputs": []
    },
    {
      "cell_type": "markdown",
      "source": [
        "- Notice that the number of rows is now correctly matched with Isolate number, yielding a total of 1936 rows as in the metadata.\n",
        "\n",
        "- Also we now have a bunch of columns that currently include:\n",
        "  - **1 MLST column** this column could be used to as a blocking factor\n",
        "  - **1 isolate column** these are the unique tags for each of our isolates.\n",
        "  - **12 labels**, one for each drug we will try to make predictions for.\n",
        "  - **1 Year column** this column corresponds to the isolation year\n",
        "  - **17198 features** that we will be using to make prediction for the labels (isolation year and gene presence or absence).\n"
      ],
      "metadata": {
        "id": "EQb3vLiBvzc-"
      }
    },
    {
      "cell_type": "code",
      "source": [
        "# Check out all the columns included in the final dataframe and the final shape it takes\n",
        "print(Drug_df.columns) # contains all labels (drug abreviation column names)\n",
        "                       # and all features (year, gene presence absence and population structure)\n",
        "\n",
        "print(\"Final shape of combined dataframe\",Drug_df.shape)"
      ],
      "metadata": {
        "id": "gZ8nRJbyEcqR"
      },
      "execution_count": null,
      "outputs": []
    },
    {
      "cell_type": "markdown",
      "source": [
        "#### **c)** Convert the Dataframe into a CSV and save it in a folder\n",
        "\n",
        "After running the code below, feel free to check your Drive to make sure that you have a folder named **\"EColi_ML_CSV_files\"** and that inside you have a csv called **\"EColi_Merged_dfs.csv\"**\n"
      ],
      "metadata": {
        "id": "e46_GO8oBZDY"
      }
    },
    {
      "cell_type": "code",
      "source": [
        "# Note that if you have already done this – you will just get an output that this directory or file already exists.\n",
        "# If you want the code to run again, delete the EColi_ML_CSV_files folder and/or EColi_Merged_df.csv file in your Drive.\n",
        "\n",
        "try:\n",
        "  # makes a directory to save all your csv's\n",
        "  os.mkdir('/content/drive/My Drive/EColi_ML_CSV_files')\n",
        "\n",
        "  # path where we will store csv data #change to any path you want\n",
        "  path = '/content/drive/My Drive/EColi_ML_CSV_files/'\n",
        "\n",
        "  # this code exports the dataframe into a CSV file\n",
        "  Drug_df.to_csv(path+\"EColi_Merged_df.csv\", index= False)\n",
        "\n",
        "except:\n",
        "  print(\"Directory and file have already been created\")"
      ],
      "metadata": {
        "id": "u6kxDEBFQFvN"
      },
      "execution_count": null,
      "outputs": []
    },
    {
      "cell_type": "markdown",
      "source": [
        "CONGRATULATIONS on making it this far! Now that our data is ready, we will learn how to create and train different Machine Learning models based on the csv file we just created. In the next notebook, we will learn about our first model for this tutorial series, [Logistic Regression](https://colab.research.google.com/drive/1p8AMu3YlIvViKfS58u9l7y03XEJHkY5O?usp=sharing)."
      ],
      "metadata": {
        "id": "-wo5-2NeifSt"
      }
    }
  ]
}